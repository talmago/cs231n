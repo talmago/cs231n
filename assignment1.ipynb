{
 "cells": [
  {
   "cell_type": "markdown",
   "metadata": {},
   "source": [
    "[![Open In Colab](https://colab.research.google.com/assets/colab-badge.svg)](https://colab.research.google.com/github/talmago/cs231n/blob/master/assignment1.ipynb)"
   ]
  },
  {
   "cell_type": "markdown",
   "metadata": {
    "colab_type": "text",
    "id": "X4WWyW4tM2Ir"
   },
   "source": [
    "# Deep Learning Theoretical Aspects - Assignment 1"
   ]
  },
  {
   "cell_type": "code",
   "execution_count": 1,
   "metadata": {
    "colab": {},
    "colab_type": "code",
    "id": "u1ZXXN9lM2Is"
   },
   "outputs": [],
   "source": [
    "import numpy as np\n",
    "import matplotlib.pyplot as plt\n",
    "import scipy as sp\n",
    "import sklearn\n",
    "%matplotlib inline"
   ]
  },
  {
   "cell_type": "markdown",
   "metadata": {
    "colab_type": "text",
    "id": "U2qwj-IZM2Iw"
   },
   "source": [
    "Much of the power of neural networks comes from the nonlinearity that is inherited in activation functions.  \n",
    "Show that a network of N layers that uses a linear activation function can be reduced into a network with just an input and output layers.\n"
   ]
  },
  {
   "cell_type": "markdown",
   "metadata": {
    "colab_type": "text",
    "id": "74aIH7Vr2Y2N"
   },
   "source": [
    "Given a network of N layers and a linear activation function for each layer we can say that each layer is a linear function of its input, which is also the output of the previous layer. Therefore, each layer can be considered as a \"linear\" function of the input. This means that we can replace every 2 layers with a single layer that will use a linear combination of the activations. Now we can also reduce N layers to a single layer in the same way."
   ]
  },
  {
   "cell_type": "markdown",
   "metadata": {
    "colab_type": "text",
    "id": "-e-VlB4eM2Iz"
   },
   "source": [
    "### Derivatives of Activation Functions\n",
    "Compute the derivative of these activation functions:\n",
    "\n",
    "1 Sigmoid\n",
    "<img src=\"https://cdn-images-1.medium.com/max/1200/1*Vo7UFksa_8Ne5HcfEzHNWQ.png\" width=\"150\">"
   ]
  },
  {
   "cell_type": "markdown",
   "metadata": {
    "colab_type": "text",
    "id": "y5VzZ8kSpAgG"
   },
   "source": [
    "Let's denote the sigmoid function as $σ(x)=\\frac{1}{1+e^{-x}}$.\n",
    "\n",
    "\n",
    "The derivative of the sigmoid is:\n",
    "\n",
    "$\\frac{d}{dx}σ(x)$ = \n",
    "\n",
    "$\\frac{d}{dx}[\\frac{1}{1+e^{-x}}]$ =\n",
    "\n",
    "$\\frac{d}{dx}({1+e^{-x}})^{-1}$ =\n",
    "\n",
    "$-({1+e^{-x}})^{-2}(-e^{-x})$ =\n",
    "\n",
    "$\\frac{e^{-x}}{(1+e^{-x})^2}$ =\n",
    "\n",
    "$(\\frac{1}{1+e^{-x}})(\\frac{e^{-x}}{1+e^{-x}})$ =\n",
    "\n",
    "$σ(x)(1−σ(x))$."
   ]
  },
  {
   "cell_type": "markdown",
   "metadata": {
    "colab_type": "text",
    "id": "z0AiF6YjM2I3"
   },
   "source": [
    "2 Relu \n",
    "\n",
    "<img src=\"https://cloud.githubusercontent.com/assets/14886380/22743194/73ca0834-ee54-11e6-903f-a7efd247406b.png\" width=\"200\">"
   ]
  },
  {
   "cell_type": "markdown",
   "metadata": {
    "colab_type": "text",
    "id": "li7z_DHatDJE"
   },
   "source": [
    "$\\frac{df}{dx} = \\begin{cases}\n",
    "    0,& \\text{if } x<0\\\\\n",
    "    1,& \\text{if } x>0\n",
    "\\end{cases}$\n",
    "\n",
    "Notice that $\\frac{df}{dx}$ is not defined for x = 0."
   ]
  },
  {
   "cell_type": "markdown",
   "metadata": {
    "colab_type": "text",
    "id": "8tcbCKStM2I7"
   },
   "source": [
    "3 Softmax\n",
    "<img src=\"https://wikimedia.org/api/rest_v1/media/math/render/svg/e348290cf48ddbb6e9a6ef4e39363568b67c09d3\" width=\"250\">"
   ]
  },
  {
   "cell_type": "markdown",
   "metadata": {
    "colab_type": "text",
    "id": "BPQaVUQ2vNMd"
   },
   "source": [
    "We'll be using the quotient rule of derivatives:\n",
    "\n",
    "$f(x) = \\frac{g(x)}{h(x)}$ => $f'(x)$ = $\\frac{g'(x)h(x) + h'(x)g(x)}{[h(x)]^2}$\n",
    "\n",
    "\n",
    "In our case, we have:\n",
    "\n",
    "$g_i = e^{z_i}$\n",
    "\n",
    "$h_i = \\sum_{k=1}^{N} e^{z_k}$\n",
    "\n",
    "So, Note that no matter which $z_j$ we compute the derivative of $h_i$ it will always be $e^{z_j}$. For $g_i$ it is slightly different as the derivative is 0 if $i \\ne j$ and $e^{z_j}$ otherwise. \n",
    "\n",
    "So finally we can apply what we know to the quotient rule, \n",
    "\n",
    "(we denote $\\sum = \\sum_{k=1}^{N} e^{z_k} $ )    \n",
    "\n",
    "For $i = j$ , \n",
    "\n",
    "$\\frac{d}{dz_i}\\sigma(z)_j = \\frac{e^{Z_i}\\sum - e^{Z_i}e^{Z_j}}{\\sum^2}$ = \n",
    "$\\frac{e^{Z_i}}{\\sum} \\frac{\\sum - e^{Zj}}{\\sum} = \\sigma(z)_i (1 - \\sigma(z)_j) $\n",
    "\n",
    "\n",
    "For $i \\ne j$,\n",
    "\n",
    "$\\frac{d}{dz_i}\\sigma(z)_j = \\frac{0 - e^{Z_i}e^{Z_j}}{\\sum^2} = -\\frac{e^{Z_i}}{\\sum} \\frac{e^{Zj}}{\\sum} = - \\sigma(𝑧)_𝑖 \\sigma(𝑧)_𝑗$\n",
    "\n",
    "So, finally, \n",
    "\n",
    "$\\frac{d}{dz_i}\\sigma(z)_j = \\begin{cases}\n",
    "    \\sigma(z)_i (1 - \\sigma(z)_j),& \\text{if } i=j\\\\\n",
    "    - \\sigma(𝑧)_𝑖 \\sigma(𝑧)_𝑗,& \\text{if } i\\ne j\n",
    "\\end{cases}$"
   ]
  },
  {
   "cell_type": "markdown",
   "metadata": {
    "colab_type": "text",
    "id": "sRE-pv-zM2I-"
   },
   "source": [
    "### Back Propagation\n",
    "Use the delta rule and backprop to compute the derivatives for these computations:"
   ]
  },
  {
   "cell_type": "markdown",
   "metadata": {
    "colab_type": "text",
    "id": "3sJZ_0mWM2JA"
   },
   "source": [
    "```\n",
    "z = x1 + 5*x2 - 3*x3^2\n",
    "```"
   ]
  },
  {
   "cell_type": "markdown",
   "metadata": {
    "colab_type": "text",
    "id": "sJ6fhevgIc2C"
   },
   "source": [
    "If $z = x_1 + 5*x_2 - 3x_3^2$, then we can denote $f = q - u$ where $q = x_1 + 5x_2$ and $u = 3x^2$.\n",
    "\n",
    "$\\frac{df}{du} =1$\n",
    "\n",
    "$\\frac{df}{dq} = -1$\n",
    "\n",
    "$\\frac{dq}{dx_1} = 1$  \n",
    "\n",
    "$\\frac{dq}{dx_2} = 5$\n",
    "\n",
    "$\\frac{dq}{dx_3} = 0$\n",
    "\n",
    "$\\frac{du}{dx_1} =\\frac{du}{dx_2} = 0$ \n",
    "\n",
    "$\\frac{du}{dx_3} = 6x_3$\n",
    "\n",
    "Now, let's use the chain rule:\n",
    "\n",
    "$\\frac{df}{dx_1} = \\frac{df}{dq}\\frac{dq}{dx_1} + \\frac{df}{du}\\frac{du}{dx_1} = 1\\cdot1 + (-1)\\cdot0 = 1$\n",
    "\n",
    "$\\frac{df}{dx_2} = \\frac{df}{dq}\\frac{dq}{dx_2} + \\frac{df}{du}\\frac{du}{dx_2} = 1\\cdot5 + (-1)\\cdot0 = 5$\n",
    "\n",
    "$\\frac{df}{dx_3} = \\frac{df}{dq}\\frac{dq}{dx_3} + \\frac{df}{du}\\frac{du}{dx_3} = 1\\cdot1 + (-1)\\cdot6x_3 = 1-6x_3$"
   ]
  },
  {
   "cell_type": "markdown",
   "metadata": {
    "colab_type": "text",
    "id": "pgwnBRJgM2JD"
   },
   "source": [
    "```\n",
    "z = x1*(x2-4) + exp(x3^2) / 5*x4^2\n",
    "```"
   ]
  },
  {
   "cell_type": "markdown",
   "metadata": {
    "colab_type": "text",
    "id": "riOCBER53RFD"
   },
   "source": [
    "Let's denote:\n",
    "\n",
    "$f_1(x) = x-4$,\n",
    "$f_2(x) = x^2$,\n",
    "$f_3(x) = 1/x^2$,\n",
    "$f_4(x) = e^x$\n",
    "\n",
    "In our case:\n",
    "\n",
    "$z = x_1 \\cdot f_1(x_2) + 1/5 \\cdot f_3(x_4) \\cdot f_4(f_2(x_3)) $\n",
    "\n",
    "Derivativies:\n",
    "\n",
    "$\\frac{df_1}{dx} = 1$\n",
    "\n",
    "$\\frac{df_2}{dx} =2x$\n",
    "\n",
    "$\\frac{df_3}{dx} =-2x^{-3}$\n",
    "\n",
    "$\\frac{df_4}{dx} =e^x$\n",
    "\n",
    "From product rule:\n",
    "\n",
    "$\\frac{dz}{dx_1} = 1 \\cdot {f_1}(x_2) = x2-4$\n",
    "\n",
    "$\\frac{dz}{dx_2} = x_1 \\frac{df_1}{dx_2} = x1 \\cdot 1 = x1$\n",
    "\n",
    "From chain rule:\n",
    "\n",
    "$\\frac{d (f_4 \\cdot f_2) }{dx_3} = \\frac{df_4}{dx_3} f_2(x3) \\frac{df_2}{dx_3} = e^{x_3^3}\\cdot x_3^2 \\cdot 2x_3 = 2x_3^{3}e^{x_3^3}$\n",
    "\n",
    "\n",
    "$\\frac{df_3}{dx_4} = -2x_4^{-3} $\n",
    "\n",
    "Now the product:\n",
    "\n",
    "$\\frac{dz}{dx_3} = 0.2 f_3(x_4) \\frac{d (f_4 \\cdot f_2) }{dx_3} = 0.2 \\cdot \\frac{1}{x_3^2}\\cdot 2x_3^{3}e^{x_3^3} = 0.4 x_3^2 e^{x_3^3}$\n",
    "\n",
    "$\\frac{dz}{dx_4} = 0.2 \\frac{df_3}{dfx_4} (f_4 \\cdot f_2) (x_3) = 0.2 \\cdot  -2x_4^{-3} \\cdot $"
   ]
  },
  {
   "cell_type": "markdown",
   "metadata": {
    "colab_type": "text",
    "id": "hCIx61WAM2JI"
   },
   "source": [
    "```\n",
    "z = 1/x3 + exp( (x1+5*(x2+3)) ^2 )\n",
    "```"
   ]
  },
  {
   "cell_type": "code",
   "execution_count": 0,
   "metadata": {
    "colab": {},
    "colab_type": "code",
    "id": "zSdvzQTlM2JJ"
   },
   "outputs": [],
   "source": [
    "# Write your answer here"
   ]
  },
  {
   "cell_type": "markdown",
   "metadata": {
    "colab_type": "text",
    "id": "x0t9ocxlM2JM"
   },
   "source": [
    "### Sample convolutions\n",
    "Consider the following convolution filters:\n",
    "```python\n",
    "k1 = [ [0 0 0], [0 1 0], [0 0 0] ]\n",
    "k2 = [ [0 0 0], [0 0 1], [0 0 0] ]\n",
    "k3 = [ [-1-1 -1], [-1 8 -1], [-1 -1 -1] ]\n",
    "k4 = [ [1 1 1], [1 1 1], [1 1 1] ] / 9\n",
    "```\n",
    "\n",
    "Can you guess what each of them computes?"
   ]
  },
  {
   "cell_type": "markdown",
   "metadata": {
    "colab_type": "text",
    "id": "QcwrzQguM2JN"
   },
   "source": [
    "#### Apply to arrays\n",
    "Apply the convolutions above to the following array:\n"
   ]
  },
  {
   "cell_type": "code",
   "execution_count": 9,
   "metadata": {
    "colab": {
     "base_uri": "https://localhost:8080/",
     "height": 68
    },
    "colab_type": "code",
    "executionInfo": {
     "elapsed": 653,
     "status": "ok",
     "timestamp": 1545558593957,
     "user": {
      "displayName": "Tal Almagor",
      "photoUrl": "https://lh5.googleusercontent.com/-JXD2mVkq4JE/AAAAAAAAAAI/AAAAAAAACDQ/jF5FDAmhQns/s64/photo.jpg",
      "userId": "12522956514593934165"
     },
     "user_tz": -120
    },
    "id": "ogcq97F5MtEa",
    "outputId": "94b6cde1-300d-47a9-b624-9c8bad384e8f"
   },
   "outputs": [
    {
     "data": {
      "text/plain": [
       "array([[-2., -4.,  0.],\n",
       "       [-2.,  2.,  2.],\n",
       "       [-3., -4., -4.]])"
      ]
     },
     "execution_count": 9,
     "metadata": {},
     "output_type": "execute_result"
    }
   ],
   "source": [
    "k1 = np.array([ [0, 0, 0], [0, 1, 0], [0, 0, 0] ])\n",
    "k2 = np.array([ [0, 0, 0], [0, 0, 1], [0, 0, 0] ])\n",
    "k3 = np.array([ [-1, -1, -1], [-1, 8, -1], [-1, -1, -1] ])\n",
    "k4 = np.array([ [1, 1, 1], [1, 1, 1], [1, 1, 1] ]) / 9\n",
    "\n",
    "x = np.array([\n",
    "    [-1, -3, -4,  0, -1],\n",
    "    [ 2, -2, -4,  0, -2],\n",
    "    [-3, -2,  2,  2,  3],\n",
    "    [ 0, -3, -4, -4, -2],\n",
    "    [-4, -2,  2,  0,  1]\n",
    "])\n",
    "\n",
    "def apply_filter(x, f, stride=1, padding=0):\n",
    "    xh, xw = x.shape\n",
    "    fh, fw = f.shape\n",
    "  \n",
    "    h_out = int((xh - fh + 2 * padding) / stride + 1)\n",
    "    w_out = int((xw - fw + 2 * padding) / stride + 1)\n",
    "    out = np.zeros((h_out, w_out))\n",
    "  \n",
    "    for i in range(padding, h_out-padding, stride):\n",
    "        for j in range(padding, w_out-padding, stride):\n",
    "            cell = x[i - padding:i - padding+fh, j - padding:j - padding+fw]\n",
    "            out[i, j] = np.sum(cell*f)\n",
    "    return out\n",
    "\n",
    "# Demonstrate with `k1` filter\n",
    "apply_filter(x, k1)"
   ]
  },
  {
   "cell_type": "markdown",
   "metadata": {
    "colab_type": "text",
    "id": "PWreTtHEM2JT"
   },
   "source": [
    "What would be the output dimensions in these cases?\n",
    "1. No padding, stride of 1\n",
    "1. No padding, stride of 2\n",
    "1. Zero padding, stride of 1 \n",
    "1. Zero padding, stride of 2"
   ]
  },
  {
   "cell_type": "markdown",
   "metadata": {
    "colab_type": "text",
    "id": "3zm8OVxXcAJR"
   },
   "source": [
    "Answer:\n",
    "1. (3,3)\n",
    "2. (2,2)                  \n",
    "3. (5,5) = (solution 1 with additional 2-padding)\n",
    "4. (5,5) = (solution 2 with additional 3-padding)"
   ]
  },
  {
   "cell_type": "markdown",
   "metadata": {
    "colab_type": "text",
    "id": "hn6zBCbhM2JV"
   },
   "source": [
    "Consider convolutions with kernels of size 3x3, 5x5, 7x7 etc.\n",
    "\n",
    "Come up with an equation for the dimension of the output image after a convolution layer. Your equation should also take into account padding and the stride."
   ]
  },
  {
   "cell_type": "markdown",
   "metadata": {
    "colab_type": "text",
    "id": "ypIhfskII7iP"
   },
   "source": [
    "$$ dim = (D_{input}, \\frac{W_{input} - W_{filter} + 2P)} {S} + 1, \\frac{H_{input} - H_{filter} + 2P)} {S} + 1)$$\n",
    "\n",
    "s.t. $$ D = depth, W = width, H = height, P = padding, S = stride $$"
   ]
  },
  {
   "cell_type": "code",
   "execution_count": 5,
   "metadata": {
    "colab": {},
    "colab_type": "code",
    "id": "KIfmkghoM2JX"
   },
   "outputs": [],
   "source": [
    "# Below is a python-code for the formula above\n",
    "def get_conv_layer_out_dim(X_shape, filter_shape, padding=0, stride=1):  \n",
    "    h_x, w_x = X_shape\n",
    "    h_f, w_f = filter_shape\n",
    "    h_out = int((h_x - h_f + 2 * padding) / stride + 1)\n",
    "    w_out = int((w_x - w_f + 2 * padding) / stride + 1)\n",
    "    return h_out, w_out\n",
    "\n",
    "assert get_conv_layer_out_dim((28,28), (3,3), padding=0, stride=1) == (26,26)\n",
    "assert get_conv_layer_out_dim((28,28), (5,5), padding=0, stride=1) == (24,24)\n",
    "assert get_conv_layer_out_dim((28,28), (7,7), padding=0, stride=1) == (22,22)"
   ]
  },
  {
   "cell_type": "markdown",
   "metadata": {
    "colab_type": "text",
    "id": "XuFv87kEM2Ja"
   },
   "source": [
    "#### Apply to images\n",
    "Apply the convolution filters above on the image. Plot the results:"
   ]
  },
  {
   "cell_type": "code",
   "execution_count": 7,
   "metadata": {
    "colab": {
     "base_uri": "https://localhost:8080/",
     "height": 286
    },
    "colab_type": "code",
    "executionInfo": {
     "elapsed": 1215,
     "status": "ok",
     "timestamp": 1545558602805,
     "user": {
      "displayName": "Tal Almagor",
      "photoUrl": "https://lh5.googleusercontent.com/-JXD2mVkq4JE/AAAAAAAAAAI/AAAAAAAACDQ/jF5FDAmhQns/s64/photo.jpg",
      "userId": "12522956514593934165"
     },
     "user_tz": -120
    },
    "id": "foMgNADVM2Jb",
    "outputId": "cba44a9a-b6b6-469a-bdc1-054f3bf166a6"
   },
   "outputs": [
    {
     "data": {
      "text/plain": [
       "<matplotlib.image.AxesImage at 0x1179c7898>"
      ]
     },
     "execution_count": 7,
     "metadata": {},
     "output_type": "execute_result"
    },
    {
     "data": {
      "image/png": "[encoded data removed]",
      "text/plain": [
       "<Figure size 432x288 with 1 Axes>"
      ]
     },
     "metadata": {},
     "output_type": "display_data"
    }
   ],
   "source": [
    "import matplotlib.pyplot as plt\n",
    "import matplotlib.image as mpimg\n",
    "\n",
    "im = mpimg.imread('lena.jpg')\n",
    "plt.imshow(im)"
   ]
  },
  {
   "cell_type": "code",
   "execution_count": 18,
   "metadata": {
    "colab": {},
    "colab_type": "code",
    "id": "Cbml1t6SeO2q"
   },
   "outputs": [
    {
     "name": "stderr",
     "output_type": "stream",
     "text": [
      "Clipping input data to the valid range for imshow with RGB data ([0..1] for floats or [0..255] for integers).\n"
     ]
    },
    {
     "data": {
      "text/plain": [
       "<matplotlib.image.AxesImage at 0x1219ebbe0>"
      ]
     },
     "execution_count": 18,
     "metadata": {},
     "output_type": "execute_result"
    },
    {
     "data": {
      "image/png": "[encoded data removed]",
      "text/plain": [
       "<Figure size 432x288 with 1 Axes>"
      ]
     },
     "metadata": {},
     "output_type": "display_data"
    }
   ],
   "source": [
    "im2 = np.zeros(im.shape)\n",
    "im2[:, :, 0] = apply_filter(im[:, :, 0], k1, padding=1)\n",
    "im2[:, :, 1] = apply_filter(im[:, :, 1], k1, padding=1)\n",
    "im2[:, :, 2] = apply_filter(im[:, :, 2], k1, padding=1)\n",
    "plt.imshow(im2)"
   ]
  },
  {
   "cell_type": "markdown",
   "metadata": {
    "colab_type": "text",
    "id": "TjUIz0pQM2Jk"
   },
   "source": [
    "### Network dimensions\n",
    "Write below the dimensions and number of parameters in each layer of this network for the MNIST data:\n",
    "\n",
    "- Convolutional Layer #1: Applies 32 5x5 filters (extracting 5x5-pixel subregions), with ReLU activation function\n",
    "- Pooling Layer #1: Performs max pooling with a 2x2 filter and stride of 2 (which specifies that pooled regions do not overlap)\n",
    "- Convolutional Layer #2: Applies 64 5x5 filters, with ReLU activation function\n",
    "- Pooling Layer #2: Again, performs max pooling with a 2x2 filter and stride of 2\n",
    "- Dense Layer #1: 1,024 neurons, with dropout regularization rate of 0.4 (probability of 0.4 that any given element will be dropped during training)\n",
    "- Dense Layer #2 (Logits Layer): 10 neurons, one for each digit target class (0–9).\n"
   ]
  },
  {
   "cell_type": "markdown",
   "metadata": {
    "colab_type": "text",
    "id": "fs52_Z9bPxLP"
   },
   "source": [
    "-  Convolutional Layer #1: (28, 28, 1) -> (24, 24, 32), parameters: (24 X 24 X 1) X 32 = 18464\n",
    "-  Pooling Layer #1: (24, 24, 32) -> (12, 12, 32), parameters: 0\n",
    "-  Convolutional Layer #2: (12, 12, 32) -> (6, 6, 64), parameters: (12 X 12 X 32) * 64 = 294912\n",
    "-  Pooling Layer #2: (6, 6, 64) -> (3, 3, 64), parameters: 0\n",
    "-  Dense Layer #1: (3, 3, 64) -> (1024, ), parameters:  3 X 3 X 64 X 1024 = 589824. \n",
    "-  Dense Layer #2: (1024,) -> (10,), parameters: 1024 X 10 = 10240."
   ]
  },
  {
   "cell_type": "markdown",
   "metadata": {
    "colab_type": "text",
    "id": "UhfWFzbVGNso"
   },
   "source": [
    "$$ Conv_{dim} = (Depth_{input}, \\frac{W_{input} - W_{filter} + 2P)} {S} + 1, \\frac{H_{input} - H_{filter} + 2P)} {S} + 1)$$\n",
    "\n",
    "$$ Conv_{parameters} = (Conv_{dim_0} \\cdot Conv_{dim_1} \\cdot Conv_{dim_2}) * Conv_{filters} $$\n",
    "\n",
    "$$ MaxPool_{dim} = (Depth_{input}, \\frac{W_{input - K}}{S} + 1, \\frac{H_{input} - K}{S} + 1)$$\n",
    "\n",
    "$$ MaxPool_{parameters} = 0 $$"
   ]
  },
  {
   "cell_type": "markdown",
   "metadata": {
    "colab_type": "text",
    "id": "D8-6p8KxM2Jn"
   },
   "source": [
    "### Learning in biological neurons\n",
    "Try to come up with a learning algorithm for a neural network that replaces back propagation, and mimicks the operation of biological neurons."
   ]
  },
  {
   "cell_type": "code",
   "execution_count": 0,
   "metadata": {
    "colab": {},
    "colab_type": "code",
    "id": "0vd8WQMHM2Jn"
   },
   "outputs": [],
   "source": [
    "# Write your answer here"
   ]
  },
  {
   "cell_type": "markdown",
   "metadata": {
    "colab_type": "text",
    "id": "VvTBLm44M2Jq"
   },
   "source": [
    "### Puppy or bagel?\n",
    "We've seen in class the (hopefully) funny examples of challenging images (Chihuahua or muffin, puppy or bagel etc.). \n",
    "\n",
    "Let's say you were asked by someone to find more examples like that. You are able to call the 3 neural networks that won the recent ImageNet challenges, and get their predictions (the entire vector of probabilities for the 1000 classes).  \n",
    "\n",
    "Describe methods that might assist you in finding more examples."
   ]
  },
  {
   "cell_type": "markdown",
   "metadata": {
    "colab_type": "text",
    "id": "vhjS_FJDLGDv"
   },
   "source": [
    "Ideally, we would want to plot a confussion matrix for the 1000 classes and then iterate over the rows and try to locate a row which assigns a probability equals or larger than 0.5 to another class. Then, we can use another confussion matrix (from a different net) for validation or alternatively use a majority vote based on the 3 networks. "
   ]
  },
  {
   "cell_type": "markdown",
   "metadata": {
    "colab_type": "text",
    "id": "CIsnCby5M2Jt"
   },
   "source": [
    "#### Gradient Checking\n",
    "When computing the gradient yourself, it's recommended to manually check the gradient to make sure you haven't made an error.  \n",
    "We'll use the following equation for this, which produces more robust results than the standard definition of a derivative:\n",
    "\n",
    "\n",
    "<img src=\"http://ufldl.stanford.edu/wiki/images/math/a/2/3/a23bea0ab48ded7b9a979b68f6356613.png\" width=\"250\">"
   ]
  },
  {
   "cell_type": "markdown",
   "metadata": {
    "colab_type": "text",
    "id": "PVqcckZwM2Jt"
   },
   "source": [
    "We'll numerically approximate it using:\n",
    "\n",
    "<img src=\"http://ufldl.stanford.edu/wiki/images/math/4/8/a/48a000aed96c8595fcca2a45f48343ce.png\" width=\"250\">"
   ]
  },
  {
   "cell_type": "markdown",
   "metadata": {
    "colab_type": "text",
    "id": "_xAfbLz6M2Ju"
   },
   "source": [
    "Write a function that evaluates the gradient locally and use it to numerically compute the gradient along several randomly chosen dimensions. Compare your results with your analytically computed gradient. The numbers should match almost exactly along all dimensions."
   ]
  },
  {
   "cell_type": "code",
   "execution_count": 11,
   "metadata": {
    "colab": {
     "base_uri": "https://localhost:8080/",
     "height": 85
    },
    "colab_type": "code",
    "executionInfo": {
     "elapsed": 701,
     "status": "ok",
     "timestamp": 1545558648749,
     "user": {
      "displayName": "Tal Almagor",
      "photoUrl": "https://lh5.googleusercontent.com/-JXD2mVkq4JE/AAAAAAAAAAI/AAAAAAAACDQ/jF5FDAmhQns/s64/photo.jpg",
      "userId": "12522956514593934165"
     },
     "user_tz": -120
    },
    "id": "9q5tPe8JM2Ju",
    "outputId": "c95cb8d4-2ca4-4244-cef7-cecf14f9da92"
   },
   "outputs": [
    {
     "name": "stdout",
     "output_type": "stream",
     "text": [
      "local_gradient(1,2) =  [3.000003 4.000002]\n",
      "gradient(1,2) =  [3. 4.]\n",
      "local_gradient(1,2) =  [ 6.7500045 -5.999998 ]\n",
      "gradient(1,2) =  [ 6.75 -6.  ]\n"
     ]
    }
   ],
   "source": [
    "def local_gradient(f, x0, epsilon=1e-6):\n",
    "    f0 = f(x0)\n",
    "    d = len(x0)\n",
    "    grad = np.zeros((d,), np.float)\n",
    "    eps = np.zeros((d,), np.float)\n",
    "    for dim in range(d):\n",
    "        eps[dim] = epsilon\n",
    "        grad[dim] = (f(x0 + eps) - f0) / epsilon\n",
    "        eps[dim] = 0.0\n",
    "    return grad\n",
    "\n",
    "# f = x1^3 + 2x2^2\n",
    "f = lambda x: x[0]**3 + 2*x[1]**2\n",
    "\n",
    "# df/dx1 = 3x1^2, df/dx2 = 4x2\n",
    "grad_f = lambda x: np.array([3 * x[0]**2, 4*x[1]])\n",
    "\n",
    "for x0 in [[1.0,1.0], [1.5,-1.5]]:\n",
    "    print('local_gradient(1,2) = ', local_gradient(f, x0))\n",
    "    print('gradient(1,2) = ', grad_f(x0))"
   ]
  }
 ],
 "metadata": {
  "colab": {
   "collapsed_sections": [],
   "name": "assignment1.ipynb",
   "provenance": [
    {
     "file_id": "1YKQUBHNdVkxwYNOIMMYuFJw231SvI9Jc",
     "timestamp": 1544958487571
    }
   ],
   "version": "0.3.2"
  },
  "kernelspec": {
   "display_name": "Python 3",
   "language": "python",
   "name": "python3"
  },
  "language_info": {
   "codemirror_mode": {
    "name": "ipython",
    "version": 3
   },
   "file_extension": ".py",
   "mimetype": "text/x-python",
   "name": "python",
   "nbconvert_exporter": "python",
   "pygments_lexer": "ipython3",
   "version": "3.6.5"
  }
 },
 "nbformat": 4,
 "nbformat_minor": 1
}
